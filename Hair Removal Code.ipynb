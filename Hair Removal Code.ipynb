{
 "cells": [
  {
   "cell_type": "code",
   "execution_count": null,
   "metadata": {},
   "outputs": [],
   "source": [
    "# -*- coding: utf-8 -*-\n",
    "\"\"\"\n",
    "Following are the DHR tasks followed in this example code:\n",
    "    \n",
    "    -- Applying Morphological Black-Hat transformation\n",
    "    -- Creating the mask for InPainting task\n",
    "    -- Applying inpainting algorithm on the image\n",
    "\"\"\"\n",
    "\n",
    "import cv2\n",
    "from matplotlib import pyplot as plt\n",
    "src = cv2.imread(\"Skin_data/Original data/sample1.jpg\")\n",
    "plt.imshow(src)\n",
    "\n",
    "\n",
    "\n",
    "# Convert the original image to grayscale\n",
    "grayScale = cv2.cvtColor(src, cv2.COLOR_RGB2GRAY)\n",
    "plt.imshow(grayScale)\n",
    "\n",
    "# Kernel for the morphological filtering\n",
    "kernel = cv2.getStructuringElement(1,(17,17))\n",
    "\n",
    "# Perform the blackHat filtering on the grayscale image to find the \n",
    "# hair countours\n",
    "blackhat = cv2.morphologyEx(grayScale, cv2.MORPH_BLACKHAT, kernel)\n",
    "plt.imshow(blackhat)\n",
    "\n",
    "# intensify the hair countours in preparation for the inpainting \n",
    "# algorithm\n",
    "ret,thresh2 = cv2.threshold(blackhat,3,255,cv2.THRESH_BINARY)\n",
    "plt.imshow(thresh2)\n",
    "\n",
    "# inpaint the original image depending on the mask\n",
    "dst = cv2.inpaint(src,thresh2,1,cv2.INPAINT_TELEA)\n",
    "plt.imshow(dst)\n",
    "\n",
    "cv2.imwrite('Skin_data/Original data/sample2.jpg', dst, [int(cv2.IMWRITE_JPEG_QUALITY), 90])"
   ]
  },
  {
   "cell_type": "code",
   "execution_count": null,
   "metadata": {},
   "outputs": [],
   "source": []
  },
  {
   "cell_type": "code",
   "execution_count": null,
   "metadata": {},
   "outputs": [],
   "source": []
  },
  {
   "cell_type": "code",
   "execution_count": null,
   "metadata": {},
   "outputs": [],
   "source": []
  },
  {
   "cell_type": "code",
   "execution_count": null,
   "metadata": {},
   "outputs": [],
   "source": []
  },
  {
   "cell_type": "code",
   "execution_count": null,
   "metadata": {},
   "outputs": [],
   "source": []
  },
  {
   "cell_type": "code",
   "execution_count": null,
   "metadata": {},
   "outputs": [],
   "source": []
  },
  {
   "cell_type": "code",
   "execution_count": null,
   "metadata": {},
   "outputs": [],
   "source": [
    "import os\n",
    "import cv2\n",
    "from matplotlib import pyplot as plt\n",
    "img_file_list1 = []\n"
   ]
  },
  {
   "cell_type": "code",
   "execution_count": null,
   "metadata": {},
   "outputs": [],
   "source": [
    "for fname in os.listdir('Skin_data/Original data/Training_Data/'):\n",
    "        img_file_list1.append((os.path.join('Skin_data/Original data/Training_Data/', fname)))\n",
    "        "
   ]
  },
  {
   "cell_type": "code",
   "execution_count": null,
   "metadata": {},
   "outputs": [],
   "source": [
    "for f1 in img_file_list1:\n",
    "    src = cv2.imread(f1)\n",
    "    \n",
    "    grayScale = cv2.cvtColor(src, cv2.COLOR_RGB2GRAY)\n",
    "    kernel = cv2.getStructuringElement(1,(17,17))\n",
    "    blackhat = cv2.morphologyEx(grayScale, cv2.MORPH_BLACKHAT, kernel)\n",
    "    ret,thresh2 = cv2.threshold(blackhat,10,255,cv2.THRESH_BINARY)\n",
    "    dst = cv2.inpaint(src,thresh2,1,cv2.INPAINT_TELEA)\n",
    "    \n",
    "    fname1 = os.path.splitext(os.path.basename(f1))[0]\n",
    "    output_fname = os.path.join('Skin_data/Original data/Hair_Removed_Training_Data/', '{}.jpg'.format(fname1))\n",
    "    cv2.imwrite(output_fname, dst, [int(cv2.IMWRITE_JPEG_QUALITY), 90])         "
   ]
  },
  {
   "cell_type": "code",
   "execution_count": null,
   "metadata": {},
   "outputs": [],
   "source": []
  },
  {
   "cell_type": "code",
   "execution_count": null,
   "metadata": {},
   "outputs": [],
   "source": []
  },
  {
   "cell_type": "code",
   "execution_count": null,
   "metadata": {},
   "outputs": [],
   "source": []
  },
  {
   "cell_type": "code",
   "execution_count": null,
   "metadata": {},
   "outputs": [],
   "source": []
  },
  {
   "cell_type": "code",
   "execution_count": null,
   "metadata": {},
   "outputs": [],
   "source": []
  }
 ],
 "metadata": {
  "kernelspec": {
   "display_name": "Python 3",
   "language": "python",
   "name": "python3"
  },
  "language_info": {
   "codemirror_mode": {
    "name": "ipython",
    "version": 3
   },
   "file_extension": ".py",
   "mimetype": "text/x-python",
   "name": "python",
   "nbconvert_exporter": "python",
   "pygments_lexer": "ipython3",
   "version": "3.8.5"
  }
 },
 "nbformat": 4,
 "nbformat_minor": 5
}
